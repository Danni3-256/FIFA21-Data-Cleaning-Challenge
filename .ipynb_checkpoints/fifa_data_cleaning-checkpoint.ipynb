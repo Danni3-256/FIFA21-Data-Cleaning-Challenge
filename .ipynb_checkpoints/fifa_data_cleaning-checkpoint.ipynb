{
 "cells": [
  {
   "cell_type": "code",
   "execution_count": 1,
   "id": "3ebd3f14-3942-41da-8718-1068d5006ee0",
   "metadata": {
    "tags": []
   },
   "outputs": [],
   "source": [
    "import pandas as pd\n",
    "import numpy as np"
   ]
  },
  {
   "cell_type": "code",
   "execution_count": 3,
   "id": "8f315006-bbad-4618-839e-350a968f1732",
   "metadata": {
    "tags": []
   },
   "outputs": [],
   "source": [
    "df = pd.read_csv('fifa21_raw_data.csv', low_memory=False)"
   ]
  },
  {
   "cell_type": "code",
   "execution_count": 4,
   "id": "dcecb9cd-7a47-4d6e-9cf0-be6a7404f7d7",
   "metadata": {
    "tags": []
   },
   "outputs": [
    {
     "data": {
      "text/html": [
       "<div>\n",
       "<style scoped>\n",
       "    .dataframe tbody tr th:only-of-type {\n",
       "        vertical-align: middle;\n",
       "    }\n",
       "\n",
       "    .dataframe tbody tr th {\n",
       "        vertical-align: top;\n",
       "    }\n",
       "\n",
       "    .dataframe thead th {\n",
       "        text-align: right;\n",
       "    }\n",
       "</style>\n",
       "<table border=\"1\" class=\"dataframe\">\n",
       "  <thead>\n",
       "    <tr style=\"text-align: right;\">\n",
       "      <th></th>\n",
       "      <th>photoUrl</th>\n",
       "      <th>LongName</th>\n",
       "      <th>playerUrl</th>\n",
       "      <th>Nationality</th>\n",
       "      <th>Positions</th>\n",
       "      <th>Name</th>\n",
       "      <th>Age</th>\n",
       "      <th>↓OVA</th>\n",
       "      <th>POT</th>\n",
       "      <th>Team &amp; Contract</th>\n",
       "      <th>...</th>\n",
       "      <th>A/W</th>\n",
       "      <th>D/W</th>\n",
       "      <th>IR</th>\n",
       "      <th>PAC</th>\n",
       "      <th>SHO</th>\n",
       "      <th>PAS</th>\n",
       "      <th>DRI</th>\n",
       "      <th>DEF</th>\n",
       "      <th>PHY</th>\n",
       "      <th>Hits</th>\n",
       "    </tr>\n",
       "  </thead>\n",
       "  <tbody>\n",
       "    <tr>\n",
       "      <th>0</th>\n",
       "      <td>https://cdn.sofifa.com/players/158/023/21_60.png</td>\n",
       "      <td>Lionel Messi</td>\n",
       "      <td>http://sofifa.com/player/158023/lionel-messi/2...</td>\n",
       "      <td>Argentina</td>\n",
       "      <td>RW ST CF</td>\n",
       "      <td>L. Messi</td>\n",
       "      <td>33</td>\n",
       "      <td>93</td>\n",
       "      <td>93</td>\n",
       "      <td>\\n\\n\\n\\nFC Barcelona\\n2004 ~ 2021\\n\\n</td>\n",
       "      <td>...</td>\n",
       "      <td>Medium</td>\n",
       "      <td>Low</td>\n",
       "      <td>5 ★</td>\n",
       "      <td>85</td>\n",
       "      <td>92</td>\n",
       "      <td>91</td>\n",
       "      <td>95</td>\n",
       "      <td>38</td>\n",
       "      <td>65</td>\n",
       "      <td>\\n372</td>\n",
       "    </tr>\n",
       "    <tr>\n",
       "      <th>1</th>\n",
       "      <td>https://cdn.sofifa.com/players/020/801/21_60.png</td>\n",
       "      <td>C. Ronaldo dos Santos Aveiro</td>\n",
       "      <td>http://sofifa.com/player/20801/c-ronaldo-dos-s...</td>\n",
       "      <td>Portugal</td>\n",
       "      <td>ST LW</td>\n",
       "      <td>Cristiano Ronaldo</td>\n",
       "      <td>35</td>\n",
       "      <td>92</td>\n",
       "      <td>92</td>\n",
       "      <td>\\n\\n\\n\\nJuventus\\n2018 ~ 2022\\n\\n</td>\n",
       "      <td>...</td>\n",
       "      <td>High</td>\n",
       "      <td>Low</td>\n",
       "      <td>5 ★</td>\n",
       "      <td>89</td>\n",
       "      <td>93</td>\n",
       "      <td>81</td>\n",
       "      <td>89</td>\n",
       "      <td>35</td>\n",
       "      <td>77</td>\n",
       "      <td>\\n344</td>\n",
       "    </tr>\n",
       "    <tr>\n",
       "      <th>2</th>\n",
       "      <td>https://cdn.sofifa.com/players/200/389/21_60.png</td>\n",
       "      <td>Jan Oblak</td>\n",
       "      <td>http://sofifa.com/player/200389/jan-oblak/210005/</td>\n",
       "      <td>Slovenia</td>\n",
       "      <td>GK</td>\n",
       "      <td>J. Oblak</td>\n",
       "      <td>27</td>\n",
       "      <td>91</td>\n",
       "      <td>93</td>\n",
       "      <td>\\n\\n\\n\\nAtlético Madrid\\n2014 ~ 2023\\n\\n</td>\n",
       "      <td>...</td>\n",
       "      <td>Medium</td>\n",
       "      <td>Medium</td>\n",
       "      <td>3 ★</td>\n",
       "      <td>87</td>\n",
       "      <td>92</td>\n",
       "      <td>78</td>\n",
       "      <td>90</td>\n",
       "      <td>52</td>\n",
       "      <td>90</td>\n",
       "      <td>\\n86</td>\n",
       "    </tr>\n",
       "    <tr>\n",
       "      <th>3</th>\n",
       "      <td>https://cdn.sofifa.com/players/192/985/21_60.png</td>\n",
       "      <td>Kevin De Bruyne</td>\n",
       "      <td>http://sofifa.com/player/192985/kevin-de-bruyn...</td>\n",
       "      <td>Belgium</td>\n",
       "      <td>CAM CM</td>\n",
       "      <td>K. De Bruyne</td>\n",
       "      <td>29</td>\n",
       "      <td>91</td>\n",
       "      <td>91</td>\n",
       "      <td>\\n\\n\\n\\nManchester City\\n2015 ~ 2023\\n\\n</td>\n",
       "      <td>...</td>\n",
       "      <td>High</td>\n",
       "      <td>High</td>\n",
       "      <td>4 ★</td>\n",
       "      <td>76</td>\n",
       "      <td>86</td>\n",
       "      <td>93</td>\n",
       "      <td>88</td>\n",
       "      <td>64</td>\n",
       "      <td>78</td>\n",
       "      <td>\\n163</td>\n",
       "    </tr>\n",
       "    <tr>\n",
       "      <th>4</th>\n",
       "      <td>https://cdn.sofifa.com/players/190/871/21_60.png</td>\n",
       "      <td>Neymar da Silva Santos Jr.</td>\n",
       "      <td>http://sofifa.com/player/190871/neymar-da-silv...</td>\n",
       "      <td>Brazil</td>\n",
       "      <td>LW CAM</td>\n",
       "      <td>Neymar Jr</td>\n",
       "      <td>28</td>\n",
       "      <td>91</td>\n",
       "      <td>91</td>\n",
       "      <td>\\n\\n\\n\\nParis Saint-Germain\\n2017 ~ 2022\\n\\n</td>\n",
       "      <td>...</td>\n",
       "      <td>High</td>\n",
       "      <td>Medium</td>\n",
       "      <td>5 ★</td>\n",
       "      <td>91</td>\n",
       "      <td>85</td>\n",
       "      <td>86</td>\n",
       "      <td>94</td>\n",
       "      <td>36</td>\n",
       "      <td>59</td>\n",
       "      <td>\\n273</td>\n",
       "    </tr>\n",
       "  </tbody>\n",
       "</table>\n",
       "<p>5 rows × 77 columns</p>\n",
       "</div>"
      ],
      "text/plain": [
       "                                           photoUrl  \\\n",
       "0  https://cdn.sofifa.com/players/158/023/21_60.png   \n",
       "1  https://cdn.sofifa.com/players/020/801/21_60.png   \n",
       "2  https://cdn.sofifa.com/players/200/389/21_60.png   \n",
       "3  https://cdn.sofifa.com/players/192/985/21_60.png   \n",
       "4  https://cdn.sofifa.com/players/190/871/21_60.png   \n",
       "\n",
       "                       LongName  \\\n",
       "0                  Lionel Messi   \n",
       "1  C. Ronaldo dos Santos Aveiro   \n",
       "2                     Jan Oblak   \n",
       "3               Kevin De Bruyne   \n",
       "4    Neymar da Silva Santos Jr.   \n",
       "\n",
       "                                           playerUrl Nationality Positions  \\\n",
       "0  http://sofifa.com/player/158023/lionel-messi/2...   Argentina  RW ST CF   \n",
       "1  http://sofifa.com/player/20801/c-ronaldo-dos-s...    Portugal     ST LW   \n",
       "2  http://sofifa.com/player/200389/jan-oblak/210005/    Slovenia        GK   \n",
       "3  http://sofifa.com/player/192985/kevin-de-bruyn...     Belgium    CAM CM   \n",
       "4  http://sofifa.com/player/190871/neymar-da-silv...      Brazil    LW CAM   \n",
       "\n",
       "                Name  Age  ↓OVA  POT  \\\n",
       "0           L. Messi   33    93   93   \n",
       "1  Cristiano Ronaldo   35    92   92   \n",
       "2           J. Oblak   27    91   93   \n",
       "3       K. De Bruyne   29    91   91   \n",
       "4          Neymar Jr   28    91   91   \n",
       "\n",
       "                                Team & Contract  ...     A/W     D/W   IR PAC  \\\n",
       "0         \\n\\n\\n\\nFC Barcelona\\n2004 ~ 2021\\n\\n  ...  Medium     Low  5 ★  85   \n",
       "1             \\n\\n\\n\\nJuventus\\n2018 ~ 2022\\n\\n  ...    High     Low  5 ★  89   \n",
       "2      \\n\\n\\n\\nAtlético Madrid\\n2014 ~ 2023\\n\\n  ...  Medium  Medium  3 ★  87   \n",
       "3      \\n\\n\\n\\nManchester City\\n2015 ~ 2023\\n\\n  ...    High    High  4 ★  76   \n",
       "4  \\n\\n\\n\\nParis Saint-Germain\\n2017 ~ 2022\\n\\n  ...    High  Medium  5 ★  91   \n",
       "\n",
       "   SHO PAS  DRI DEF PHY   Hits  \n",
       "0   92  91   95  38  65  \\n372  \n",
       "1   93  81   89  35  77  \\n344  \n",
       "2   92  78   90  52  90   \\n86  \n",
       "3   86  93   88  64  78  \\n163  \n",
       "4   85  86   94  36  59  \\n273  \n",
       "\n",
       "[5 rows x 77 columns]"
      ]
     },
     "execution_count": 4,
     "metadata": {},
     "output_type": "execute_result"
    }
   ],
   "source": [
    "df.head()"
   ]
  },
  {
   "cell_type": "markdown",
   "id": "7646bc76-719c-4781-a229-18900a2cd064",
   "metadata": {},
   "source": [
    "Wow!! 77 columns. Let's see them more in depth:"
   ]
  },
  {
   "cell_type": "code",
   "execution_count": 7,
   "id": "6455aa99-e22e-40b4-9897-3dec1e8998f8",
   "metadata": {
    "tags": []
   },
   "outputs": [
    {
     "data": {
      "text/plain": [
       "Index(['photoUrl', 'LongName', 'playerUrl', 'Nationality', 'Positions', 'Name',\n",
       "       'Age', '↓OVA', 'POT', 'Team & Contract', 'ID', 'Height', 'Weight',\n",
       "       'foot', 'BOV', 'BP', 'Growth', 'Joined', 'Loan Date End', 'Value',\n",
       "       'Wage', 'Release Clause', 'Attacking', 'Crossing', 'Finishing',\n",
       "       'Heading Accuracy', 'Short Passing', 'Volleys', 'Skill', 'Dribbling',\n",
       "       'Curve', 'FK Accuracy', 'Long Passing', 'Ball Control', 'Movement',\n",
       "       'Acceleration', 'Sprint Speed', 'Agility', 'Reactions', 'Balance',\n",
       "       'Power', 'Shot Power', 'Jumping', 'Stamina', 'Strength', 'Long Shots',\n",
       "       'Mentality', 'Aggression', 'Interceptions', 'Positioning', 'Vision',\n",
       "       'Penalties', 'Composure', 'Defending', 'Marking', 'Standing Tackle',\n",
       "       'Sliding Tackle', 'Goalkeeping', 'GK Diving', 'GK Handling',\n",
       "       'GK Kicking', 'GK Positioning', 'GK Reflexes', 'Total Stats',\n",
       "       'Base Stats', 'W/F', 'SM', 'A/W', 'D/W', 'IR', 'PAC', 'SHO', 'PAS',\n",
       "       'DRI', 'DEF', 'PHY', 'Hits'],\n",
       "      dtype='object')"
      ]
     },
     "execution_count": 7,
     "metadata": {},
     "output_type": "execute_result"
    }
   ],
   "source": [
    "df.columns"
   ]
  },
  {
   "cell_type": "markdown",
   "id": "85ba3229-ee0b-4557-b5dc-067f65068624",
   "metadata": {},
   "source": [
    "Let's study the missing values and their counts  \n",
    "It's not the prettiest method but I can't remember now how to do it in a more elegant way..."
   ]
  },
  {
   "cell_type": "code",
   "execution_count": 16,
   "id": "e03ccea8-d758-4434-acfb-46f9c717f18b",
   "metadata": {
    "tags": []
   },
   "outputs": [
    {
     "data": {
      "text/plain": [
       "Loan Date End       17966\n",
       "photoUrl                0\n",
       "GK Diving               0\n",
       "Sliding Tackle          0\n",
       "Standing Tackle         0\n",
       "                    ...  \n",
       "Heading Accuracy        0\n",
       "Finishing               0\n",
       "Crossing                0\n",
       "Attacking               0\n",
       "Hits                    0\n",
       "Name: missing values count, Length: 77, dtype: int64"
      ]
     },
     "execution_count": 16,
     "metadata": {},
     "output_type": "execute_result"
    }
   ],
   "source": [
    "s = pd.Series([df[i].isnull().sum() for i in df.columns], index=df.columns).sort_values(ascending=False)\n",
    "s.name = 'missing values count'\n",
    "s"
   ]
  },
  {
   "cell_type": "code",
   "execution_count": null,
   "id": "47bc8a83-d2ab-4c8b-96ea-e73357dac3aa",
   "metadata": {},
   "outputs": [],
   "source": []
  }
 ],
 "metadata": {
  "kernelspec": {
   "display_name": "Python 3 (ipykernel)",
   "language": "python",
   "name": "python3"
  },
  "language_info": {
   "codemirror_mode": {
    "name": "ipython",
    "version": 3
   },
   "file_extension": ".py",
   "mimetype": "text/x-python",
   "name": "python",
   "nbconvert_exporter": "python",
   "pygments_lexer": "ipython3",
   "version": "3.10.9"
  }
 },
 "nbformat": 4,
 "nbformat_minor": 5
}
